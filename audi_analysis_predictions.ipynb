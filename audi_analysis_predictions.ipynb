{
 "cells": [
  {
   "cell_type": "code",
   "execution_count": 1,
   "metadata": {},
   "outputs": [],
   "source": [
    "import pandas as pd\n",
    "import numpy as np\n",
    "import matplotlib.pyplot as plt\n",
    "import seaborn as sns\n",
    "%matplotlib inline \n",
    "#importing neccessary packages\n"
   ]
  },
  {
   "cell_type": "code",
   "execution_count": 2,
   "metadata": {},
   "outputs": [],
   "source": [
    "audi_path = \"/Users/Maciek/Desktop/audi_used_car_listings_project/audi.csv\" #filepath on hard drive\n",
    "\n",
    "data = pd.read_csv(audi_path) #loading in the data"
   ]
  },
  {
   "cell_type": "code",
   "execution_count": 3,
   "metadata": {},
   "outputs": [
    {
     "data": {
      "text/html": [
       "<div>\n",
       "<style scoped>\n",
       "    .dataframe tbody tr th:only-of-type {\n",
       "        vertical-align: middle;\n",
       "    }\n",
       "\n",
       "    .dataframe tbody tr th {\n",
       "        vertical-align: top;\n",
       "    }\n",
       "\n",
       "    .dataframe thead th {\n",
       "        text-align: right;\n",
       "    }\n",
       "</style>\n",
       "<table border=\"1\" class=\"dataframe\">\n",
       "  <thead>\n",
       "    <tr style=\"text-align: right;\">\n",
       "      <th></th>\n",
       "      <th>model</th>\n",
       "      <th>year</th>\n",
       "      <th>price</th>\n",
       "      <th>transmission</th>\n",
       "      <th>mileage</th>\n",
       "      <th>fuelType</th>\n",
       "      <th>tax</th>\n",
       "      <th>mpg</th>\n",
       "      <th>engineSize</th>\n",
       "    </tr>\n",
       "  </thead>\n",
       "  <tbody>\n",
       "    <tr>\n",
       "      <th>0</th>\n",
       "      <td>A1</td>\n",
       "      <td>2017</td>\n",
       "      <td>12500</td>\n",
       "      <td>Manual</td>\n",
       "      <td>15735</td>\n",
       "      <td>Petrol</td>\n",
       "      <td>150</td>\n",
       "      <td>55.4</td>\n",
       "      <td>1.4</td>\n",
       "    </tr>\n",
       "    <tr>\n",
       "      <th>1</th>\n",
       "      <td>A6</td>\n",
       "      <td>2016</td>\n",
       "      <td>16500</td>\n",
       "      <td>Automatic</td>\n",
       "      <td>36203</td>\n",
       "      <td>Diesel</td>\n",
       "      <td>20</td>\n",
       "      <td>64.2</td>\n",
       "      <td>2.0</td>\n",
       "    </tr>\n",
       "    <tr>\n",
       "      <th>2</th>\n",
       "      <td>A1</td>\n",
       "      <td>2016</td>\n",
       "      <td>11000</td>\n",
       "      <td>Manual</td>\n",
       "      <td>29946</td>\n",
       "      <td>Petrol</td>\n",
       "      <td>30</td>\n",
       "      <td>55.4</td>\n",
       "      <td>1.4</td>\n",
       "    </tr>\n",
       "    <tr>\n",
       "      <th>3</th>\n",
       "      <td>A4</td>\n",
       "      <td>2017</td>\n",
       "      <td>16800</td>\n",
       "      <td>Automatic</td>\n",
       "      <td>25952</td>\n",
       "      <td>Diesel</td>\n",
       "      <td>145</td>\n",
       "      <td>67.3</td>\n",
       "      <td>2.0</td>\n",
       "    </tr>\n",
       "    <tr>\n",
       "      <th>4</th>\n",
       "      <td>A3</td>\n",
       "      <td>2019</td>\n",
       "      <td>17300</td>\n",
       "      <td>Manual</td>\n",
       "      <td>1998</td>\n",
       "      <td>Petrol</td>\n",
       "      <td>145</td>\n",
       "      <td>49.6</td>\n",
       "      <td>1.0</td>\n",
       "    </tr>\n",
       "  </tbody>\n",
       "</table>\n",
       "</div>"
      ],
      "text/plain": [
       "  model  year  price transmission  mileage fuelType  tax   mpg  engineSize\n",
       "0    A1  2017  12500       Manual    15735   Petrol  150  55.4         1.4\n",
       "1    A6  2016  16500    Automatic    36203   Diesel   20  64.2         2.0\n",
       "2    A1  2016  11000       Manual    29946   Petrol   30  55.4         1.4\n",
       "3    A4  2017  16800    Automatic    25952   Diesel  145  67.3         2.0\n",
       "4    A3  2019  17300       Manual     1998   Petrol  145  49.6         1.0"
      ]
     },
     "execution_count": 3,
     "metadata": {},
     "output_type": "execute_result"
    }
   ],
   "source": [
    "data.head() #viewing the first few rows"
   ]
  },
  {
   "cell_type": "code",
   "execution_count": 4,
   "metadata": {},
   "outputs": [
    {
     "name": "stdout",
     "output_type": "stream",
     "text": [
      "<class 'pandas.core.frame.DataFrame'>\n",
      "RangeIndex: 10668 entries, 0 to 10667\n",
      "Data columns (total 9 columns):\n",
      " #   Column        Non-Null Count  Dtype  \n",
      "---  ------        --------------  -----  \n",
      " 0   model         10668 non-null  object \n",
      " 1   year          10668 non-null  int64  \n",
      " 2   price         10668 non-null  int64  \n",
      " 3   transmission  10668 non-null  object \n",
      " 4   mileage       10668 non-null  int64  \n",
      " 5   fuelType      10668 non-null  object \n",
      " 6   tax           10668 non-null  int64  \n",
      " 7   mpg           10668 non-null  float64\n",
      " 8   engineSize    10668 non-null  float64\n",
      "dtypes: float64(2), int64(4), object(3)\n",
      "memory usage: 750.2+ KB\n"
     ]
    }
   ],
   "source": [
    "data.info() #displaying info about columns"
   ]
  },
  {
   "cell_type": "markdown",
   "metadata": {},
   "source": [
    "The data set consists of 9 columns, each with 10 668 rows."
   ]
  },
  {
   "cell_type": "code",
   "execution_count": 5,
   "metadata": {},
   "outputs": [
    {
     "data": {
      "text/html": [
       "<div>\n",
       "<style scoped>\n",
       "    .dataframe tbody tr th:only-of-type {\n",
       "        vertical-align: middle;\n",
       "    }\n",
       "\n",
       "    .dataframe tbody tr th {\n",
       "        vertical-align: top;\n",
       "    }\n",
       "\n",
       "    .dataframe thead th {\n",
       "        text-align: right;\n",
       "    }\n",
       "</style>\n",
       "<table border=\"1\" class=\"dataframe\">\n",
       "  <thead>\n",
       "    <tr style=\"text-align: right;\">\n",
       "      <th></th>\n",
       "      <th>year</th>\n",
       "      <th>price</th>\n",
       "      <th>mileage</th>\n",
       "      <th>tax</th>\n",
       "      <th>mpg</th>\n",
       "      <th>engineSize</th>\n",
       "    </tr>\n",
       "  </thead>\n",
       "  <tbody>\n",
       "    <tr>\n",
       "      <th>count</th>\n",
       "      <td>10668.000000</td>\n",
       "      <td>10668.000000</td>\n",
       "      <td>10668.000000</td>\n",
       "      <td>10668.000000</td>\n",
       "      <td>10668.000000</td>\n",
       "      <td>10668.000000</td>\n",
       "    </tr>\n",
       "    <tr>\n",
       "      <th>mean</th>\n",
       "      <td>2017.100675</td>\n",
       "      <td>22896.685039</td>\n",
       "      <td>24827.244001</td>\n",
       "      <td>126.011436</td>\n",
       "      <td>50.770022</td>\n",
       "      <td>1.930709</td>\n",
       "    </tr>\n",
       "    <tr>\n",
       "      <th>std</th>\n",
       "      <td>2.167494</td>\n",
       "      <td>11714.841888</td>\n",
       "      <td>23505.257205</td>\n",
       "      <td>67.170294</td>\n",
       "      <td>12.949782</td>\n",
       "      <td>0.602957</td>\n",
       "    </tr>\n",
       "    <tr>\n",
       "      <th>min</th>\n",
       "      <td>1997.000000</td>\n",
       "      <td>1490.000000</td>\n",
       "      <td>1.000000</td>\n",
       "      <td>0.000000</td>\n",
       "      <td>18.900000</td>\n",
       "      <td>0.000000</td>\n",
       "    </tr>\n",
       "    <tr>\n",
       "      <th>25%</th>\n",
       "      <td>2016.000000</td>\n",
       "      <td>15130.750000</td>\n",
       "      <td>5968.750000</td>\n",
       "      <td>125.000000</td>\n",
       "      <td>40.900000</td>\n",
       "      <td>1.500000</td>\n",
       "    </tr>\n",
       "    <tr>\n",
       "      <th>50%</th>\n",
       "      <td>2017.000000</td>\n",
       "      <td>20200.000000</td>\n",
       "      <td>19000.000000</td>\n",
       "      <td>145.000000</td>\n",
       "      <td>49.600000</td>\n",
       "      <td>2.000000</td>\n",
       "    </tr>\n",
       "    <tr>\n",
       "      <th>75%</th>\n",
       "      <td>2019.000000</td>\n",
       "      <td>27990.000000</td>\n",
       "      <td>36464.500000</td>\n",
       "      <td>145.000000</td>\n",
       "      <td>58.900000</td>\n",
       "      <td>2.000000</td>\n",
       "    </tr>\n",
       "    <tr>\n",
       "      <th>max</th>\n",
       "      <td>2020.000000</td>\n",
       "      <td>145000.000000</td>\n",
       "      <td>323000.000000</td>\n",
       "      <td>580.000000</td>\n",
       "      <td>188.300000</td>\n",
       "      <td>6.300000</td>\n",
       "    </tr>\n",
       "  </tbody>\n",
       "</table>\n",
       "</div>"
      ],
      "text/plain": [
       "               year          price        mileage           tax           mpg  \\\n",
       "count  10668.000000   10668.000000   10668.000000  10668.000000  10668.000000   \n",
       "mean    2017.100675   22896.685039   24827.244001    126.011436     50.770022   \n",
       "std        2.167494   11714.841888   23505.257205     67.170294     12.949782   \n",
       "min     1997.000000    1490.000000       1.000000      0.000000     18.900000   \n",
       "25%     2016.000000   15130.750000    5968.750000    125.000000     40.900000   \n",
       "50%     2017.000000   20200.000000   19000.000000    145.000000     49.600000   \n",
       "75%     2019.000000   27990.000000   36464.500000    145.000000     58.900000   \n",
       "max     2020.000000  145000.000000  323000.000000    580.000000    188.300000   \n",
       "\n",
       "         engineSize  \n",
       "count  10668.000000  \n",
       "mean       1.930709  \n",
       "std        0.602957  \n",
       "min        0.000000  \n",
       "25%        1.500000  \n",
       "50%        2.000000  \n",
       "75%        2.000000  \n",
       "max        6.300000  "
      ]
     },
     "execution_count": 5,
     "metadata": {},
     "output_type": "execute_result"
    }
   ],
   "source": [
    "data.describe() #more info about columns"
   ]
  },
  {
   "cell_type": "code",
   "execution_count": 6,
   "metadata": {},
   "outputs": [],
   "source": [
    "def visuals(ax):\n",
    "    \n",
    "    ### A function to change the visual appearence of a plot. It removes gridlines, spines and changes fonts\n",
    "    \n",
    "    plt.tick_params(top=False, bottom=False, left=False, right=False) #diabling tick marks \n",
    "    plt.tick_params(direction='out', length=2, width=0.5, grid_alpha=0.5) \n",
    "    plt.yticks(fontsize='12', fontfamily='sans-serif')\n",
    "    plt.xticks(fontsize='12', fontfamily='sans-serif') #setting properties of ticks\n",
    "\n",
    "    ax.spines['top'].set_visible(False)\n",
    "    ax.spines['right'].set_visible(False)\n",
    "    ax.spines['left'].set_visible(False)\n",
    "    ax.spines['bottom'].set_visible(False)#disabling spines of the plot"
   ]
  },
  {
   "cell_type": "code",
   "execution_count": 7,
   "metadata": {},
   "outputs": [
    {
     "data": {
      "image/png": "[encoded data removed]",
      "text/plain": [
       "<Figure size 1080x432 with 2 Axes>"
      ]
     },
     "metadata": {},
     "output_type": "display_data"
    }
   ],
   "source": [
    "#plt.style.use('seaborn') #setting the overall style of visualizations as 'seaborn'\n",
    "sns.set_theme(style='white')\n",
    "\n",
    "fig = plt.figure(figsize=(15,6))\n",
    "ax1 = fig.add_subplot(1,2,1)\n",
    "\n",
    "visuals(ax1)\n",
    "\n",
    "data['price'].plot(kind='box', showfliers=True)#creating boxplot\n",
    "#sns.boxplot(x='price', ax=ax1, data=data)\n",
    "#visuals()\n",
    "\n",
    "plt.ylim(-1000,165000)\n",
    "plt.grid(linestyle='--', linewidth=0.5)\n",
    "\n",
    "ax1.set_title('Distribution of Car Prices - boxplot')\n",
    "\n",
    "ax2 = fig.add_subplot(1,2,2)\n",
    "\n",
    "sns.histplot(data=data, x='price', ax=ax2)\n",
    "\n",
    "visuals(ax2)\n",
    "\n",
    "ax2.set_title('Distribution of Car Prices - histogram')\n",
    "\n",
    "plt.show()"
   ]
  },
  {
   "cell_type": "code",
   "execution_count": 8,
   "metadata": {},
   "outputs": [
    {
     "name": "stdout",
     "output_type": "stream",
     "text": [
      "Median price:  20200\n",
      "Average price:  22896\n"
     ]
    },
    {
     "data": {
      "text/plain": [
       "0.25    15130.75\n",
       "0.75    27990.00\n",
       "Name: price, dtype: float64"
      ]
     },
     "execution_count": 8,
     "metadata": {},
     "output_type": "execute_result"
    }
   ],
   "source": [
    "print('Median price: ', int(data['price'].median())) #calculating the median\n",
    "print('Average price: ', int(data['price'].mean())) #calculating the mean\n",
    "data['price'].quantile([0.25, 0.75]) #calculating the 1st and the 3rd quantiles"
   ]
  },
  {
   "cell_type": "markdown",
   "metadata": {},
   "source": [
    "Median price is 20,200 while the average totals 22,896. As can be seen on a plot above, the prices are higly concentrated around the median, their spread is small, 50% of the cars are priced between 15,000 and 28,000. The plot shows also a high number of outliers, cars that are costing more than approx. 50,000."
   ]
  },
  {
   "cell_type": "code",
   "execution_count": 9,
   "metadata": {},
   "outputs": [
    {
     "name": "stdout",
     "output_type": "stream",
     "text": [
      "47278.875\n"
     ]
    },
    {
     "data": {
      "text/html": [
       "<div>\n",
       "<style scoped>\n",
       "    .dataframe tbody tr th:only-of-type {\n",
       "        vertical-align: middle;\n",
       "    }\n",
       "\n",
       "    .dataframe tbody tr th {\n",
       "        vertical-align: top;\n",
       "    }\n",
       "\n",
       "    .dataframe thead th {\n",
       "        text-align: right;\n",
       "    }\n",
       "</style>\n",
       "<table border=\"1\" class=\"dataframe\">\n",
       "  <thead>\n",
       "    <tr style=\"text-align: right;\">\n",
       "      <th></th>\n",
       "      <th>model</th>\n",
       "      <th>year</th>\n",
       "      <th>price</th>\n",
       "      <th>transmission</th>\n",
       "      <th>mileage</th>\n",
       "      <th>fuelType</th>\n",
       "      <th>tax</th>\n",
       "      <th>mpg</th>\n",
       "      <th>engineSize</th>\n",
       "    </tr>\n",
       "  </thead>\n",
       "  <tbody>\n",
       "    <tr>\n",
       "      <th>198</th>\n",
       "      <td>Q7</td>\n",
       "      <td>2020</td>\n",
       "      <td>62985</td>\n",
       "      <td>Semi-Auto</td>\n",
       "      <td>10</td>\n",
       "      <td>Diesel</td>\n",
       "      <td>145</td>\n",
       "      <td>33.2</td>\n",
       "      <td>3.0</td>\n",
       "    </tr>\n",
       "    <tr>\n",
       "      <th>221</th>\n",
       "      <td>Q7</td>\n",
       "      <td>2019</td>\n",
       "      <td>49985</td>\n",
       "      <td>Automatic</td>\n",
       "      <td>10</td>\n",
       "      <td>Diesel</td>\n",
       "      <td>145</td>\n",
       "      <td>33.2</td>\n",
       "      <td>3.0</td>\n",
       "    </tr>\n",
       "    <tr>\n",
       "      <th>222</th>\n",
       "      <td>Q7</td>\n",
       "      <td>2019</td>\n",
       "      <td>59995</td>\n",
       "      <td>Automatic</td>\n",
       "      <td>10</td>\n",
       "      <td>Diesel</td>\n",
       "      <td>145</td>\n",
       "      <td>33.2</td>\n",
       "      <td>3.0</td>\n",
       "    </tr>\n",
       "    <tr>\n",
       "      <th>223</th>\n",
       "      <td>Q5</td>\n",
       "      <td>2020</td>\n",
       "      <td>47895</td>\n",
       "      <td>Semi-Auto</td>\n",
       "      <td>10</td>\n",
       "      <td>Petrol</td>\n",
       "      <td>145</td>\n",
       "      <td>30.7</td>\n",
       "      <td>2.0</td>\n",
       "    </tr>\n",
       "    <tr>\n",
       "      <th>247</th>\n",
       "      <td>Q7</td>\n",
       "      <td>2019</td>\n",
       "      <td>56985</td>\n",
       "      <td>Automatic</td>\n",
       "      <td>1510</td>\n",
       "      <td>Diesel</td>\n",
       "      <td>145</td>\n",
       "      <td>33.2</td>\n",
       "      <td>3.0</td>\n",
       "    </tr>\n",
       "  </tbody>\n",
       "</table>\n",
       "</div>"
      ],
      "text/plain": [
       "    model  year  price transmission  mileage fuelType  tax   mpg  engineSize\n",
       "198    Q7  2020  62985    Semi-Auto       10   Diesel  145  33.2         3.0\n",
       "221    Q7  2019  49985    Automatic       10   Diesel  145  33.2         3.0\n",
       "222    Q7  2019  59995    Automatic       10   Diesel  145  33.2         3.0\n",
       "223    Q5  2020  47895    Semi-Auto       10   Petrol  145  30.7         2.0\n",
       "247    Q7  2019  56985    Automatic     1510   Diesel  145  33.2         3.0"
      ]
     },
     "execution_count": 9,
     "metadata": {},
     "output_type": "execute_result"
    }
   ],
   "source": [
    "third_quant = data['price'].quantile(0.75)\n",
    "first_quant = data['price'].quantile(0.25) #calculating 1st and 3rd quantile and saving them to variables\n",
    "\n",
    "IQR = third_quant - first_quant #calculating the interquantile range of the dataset\n",
    "max_of_dist = third_quant + 1.5*IQR #calculating the maximum of the distribution\n",
    "print(max_of_dist)\n",
    "\n",
    "outliers = data[data['price']>max_of_dist] #creating a dataset with outliers\n",
    "outliers.head()"
   ]
  },
  {
   "cell_type": "code",
   "execution_count": null,
   "metadata": {},
   "outputs": [],
   "source": []
  },
  {
   "cell_type": "code",
   "execution_count": 10,
   "metadata": {},
   "outputs": [
    {
     "name": "stdout",
     "output_type": "stream",
     "text": [
      "<class 'pandas.core.frame.DataFrame'>\n",
      "Int64Index: 443 entries, 198 to 10648\n",
      "Data columns (total 9 columns):\n",
      " #   Column        Non-Null Count  Dtype  \n",
      "---  ------        --------------  -----  \n",
      " 0   model         443 non-null    object \n",
      " 1   year          443 non-null    int64  \n",
      " 2   price         443 non-null    int64  \n",
      " 3   transmission  443 non-null    object \n",
      " 4   mileage       443 non-null    int64  \n",
      " 5   fuelType      443 non-null    object \n",
      " 6   tax           443 non-null    int64  \n",
      " 7   mpg           443 non-null    float64\n",
      " 8   engineSize    443 non-null    float64\n",
      "dtypes: float64(2), int64(4), object(3)\n",
      "memory usage: 34.6+ KB\n"
     ]
    }
   ],
   "source": [
    "outliers.info()"
   ]
  },
  {
   "cell_type": "code",
   "execution_count": 11,
   "metadata": {},
   "outputs": [
    {
     "data": {
      "text/plain": [
       " Q7     170\n",
       " Q8      69\n",
       " Q5      47\n",
       " RS6     27\n",
       " R8      26\n",
       " RS4     23\n",
       " RS5     22\n",
       " A8      15\n",
       " A6      12\n",
       " TT      11\n",
       " A7       8\n",
       " A4       5\n",
       " SQ7      4\n",
       " SQ5      2\n",
       " RS3      1\n",
       " A5       1\n",
       "Name: model, dtype: int64"
      ]
     },
     "execution_count": 11,
     "metadata": {},
     "output_type": "execute_result"
    }
   ],
   "source": [
    "outliers['model'].value_counts()"
   ]
  },
  {
   "cell_type": "markdown",
   "metadata": {},
   "source": [
    "There are 443 outliers (defined as records outside of 1.5*IQR limit) most of those are models Q7, big, expensive SUV. Others include sport versions and limousines of Audi lineup."
   ]
  },
  {
   "cell_type": "code",
   "execution_count": 12,
   "metadata": {},
   "outputs": [
    {
     "data": {
      "image/png": "[encoded data removed]",
      "text/plain": [
       "<Figure size 1440x720 with 1 Axes>"
      ]
     },
     "metadata": {},
     "output_type": "display_data"
    }
   ],
   "source": [
    "cmap1 = sns.diverging_palette(230, 20, as_cmap=True)\n",
    "\n",
    "fig, ax = plt.subplots()\n",
    "data['model'].value_counts().plot(kind='bar', figsize=[20,10],\n",
    "                                  width=0.8, alpha=0.7, cmap=cmap1,\n",
    "                                  edgecolor='dimgray') #setting up the figure and the plot\n",
    "\n",
    "ax.set_yticks(np.arange(0,2001,step=500)) #getting rid of some y labels to make the plot cleaner\n",
    "\n",
    "visuals(ax) #applying the visuals() function to change the visuals of the plot\n",
    "#ax.spines['bottom'].set_visible(True)\n",
    "plt.title('Count of each Audi Model', fontsize=20)\n",
    "plt.show()\n"
   ]
  },
  {
   "cell_type": "markdown",
   "metadata": {},
   "source": [
    "On a chart above the counts of all the available models in the dataset are displayed. The most popular Audi model is undoubtedly A3 which stands at over 1,900 units, then there's a SUV model Q3 with over 1,400 and A4 and A1 are closely behind."
   ]
  },
  {
   "cell_type": "code",
   "execution_count": 13,
   "metadata": {},
   "outputs": [
    {
     "data": {
      "image/png": "[encoded data removed]",
      "text/plain": [
       "<Figure size 1440x720 with 1 Axes>"
      ]
     },
     "metadata": {},
     "output_type": "display_data"
    }
   ],
   "source": [
    "cmap2 = sns.diverging_palette(200, 20, as_cmap=True)\n",
    "\n",
    "fig, ax = plt.subplots()\n",
    "data['year'].value_counts().plot(kind='bar', figsize=[20,10],\n",
    "                                 width=0.8, alpha=0.7, cmap=cmap2,\n",
    "                                 edgecolor='dimgray') #setting up the figure and the plot\n",
    "\n",
    "ax.set_yticks(np.arange(0,3001,step=500)) #getting rid of some y labels to make the plot cleaner\n",
    "\n",
    "visuals(ax)\n",
    "\n",
    "plt.title('Count of all years of manufacturing', fontsize=20)\n",
    "\n",
    "plt.show()"
   ]
  },
  {
   "cell_type": "markdown",
   "metadata": {},
   "source": [
    "Year of production for the given models are mostly recent. The most popular year is 2019 with over 3000 postings. Almost two thousand cars are from the year 2016 and 2017 as well. Cars older than 10 years are in essence no existant in this database."
   ]
  },
  {
   "cell_type": "code",
   "execution_count": 14,
   "metadata": {},
   "outputs": [
    {
     "data": {
      "text/plain": [
       "2009.0    23\n",
       "2008.0    21\n",
       "2007.0    16\n",
       "2006.0     9\n",
       "2005.0     7\n",
       "2003.0     6\n",
       "2004.0     5\n",
       "2002.0     2\n",
       "1998.0     1\n",
       "1997.0     1\n",
       "Name: year, dtype: int64"
      ]
     },
     "execution_count": 14,
     "metadata": {},
     "output_type": "execute_result"
    }
   ],
   "source": [
    "data['year'].where(data['year']<2010).value_counts() #finding the number of cars that are older than 2010\n"
   ]
  },
  {
   "cell_type": "markdown",
   "metadata": {},
   "source": [
    "As can be seen in a Table above, there are only a handful of 'old' cars in the dataset."
   ]
  },
  {
   "cell_type": "code",
   "execution_count": 15,
   "metadata": {
    "scrolled": false
   },
   "outputs": [],
   "source": [
    "#g = sns.FacetGrid(data, col='transmission', row='fuelType', height=5, aspect=1)\n",
    "#g.map(sns.scatterplot, 'price', 'engineSize')\n",
    "#plt.show()"
   ]
  },
  {
   "cell_type": "code",
   "execution_count": 16,
   "metadata": {},
   "outputs": [
    {
     "data": {
      "text/plain": [
       "Text(0.5, 1, 'Correlation Matrix')"
      ]
     },
     "execution_count": 16,
     "metadata": {},
     "output_type": "execute_result"
    },
    {
     "data": {
      "image/png": "[encoded data removed]",
      "text/plain": [
       "<Figure size 792x648 with 2 Axes>"
      ]
     },
     "metadata": {},
     "output_type": "display_data"
    }
   ],
   "source": [
    "# Computing the correlation matrix\n",
    "corr = data.corr()\n",
    "\n",
    "# Generating a mask for the upper triangle\n",
    "mask = np.triu(np.ones_like(corr, dtype=bool))\n",
    "\n",
    "# Setting up the matplotlib figure\n",
    "f, ax = plt.subplots(figsize=(11, 9))\n",
    "\n",
    "# Generating a custom diverging colormap\n",
    "cmap3 = sns.diverging_palette(230, 20, as_cmap=True)\n",
    "\n",
    "# Drawing the heatmap with the mask and correct aspect ratio\n",
    "sns.heatmap(corr, mask=mask, cmap=cmap3, vmax=.3, center=0,\n",
    "            square=True, linewidths=.5, cbar_kws={\"shrink\": .5})\n",
    "\n",
    "plt.title('Correlation Matrix', fontsize=20)"
   ]
  },
  {
   "cell_type": "markdown",
   "metadata": {},
   "source": [
    "Plot above shows the correlations between different columns in the dataset. As can be seen, the highest positively correlated columns are price and tax - which makes sense, since price is tax's base. Also price and year - newer cars are more expensive. Mileage and miles per gallon - older cars tend to have less efficient engines which translates to higher mpgs. Price and engine size are also positively correlated - the bigger the engine the higher the price. As to the negatively correlated columns, the biggest value is assigned to year-mileage pair, which basically means that the older the car is the bigger mileage it has - makes sense. Price and mileage work on the same basis. Price and mileage basically means that the priciest cars tend to have bigger, more fuel-hungry engines. \n",
    "<br>\n",
    "What is important, all columns seem to be at least a little correlated, thus can be useful as features in predicting the price"
   ]
  },
  {
   "cell_type": "markdown",
   "metadata": {},
   "source": [
    "## Creating a model that predicts car prices"
   ]
  },
  {
   "cell_type": "markdown",
   "metadata": {},
   "source": [
    "# Cells in the following subsection are out of the analysis - the methodology is wrong"
   ]
  },
  {
   "cell_type": "markdown",
   "metadata": {},
   "source": [
    "### Creating dummy variables - version 1 - THAT'S NOT HOW IT'S DONE!!!!"
   ]
  },
  {
   "cell_type": "raw",
   "metadata": {},
   "source": [
    "#creating dummy variables from categorical features\n",
    "categorical_variables = ['model', 'transmission', 'fuelType']\n",
    "\n",
    "model_list = sorted(data['model'].unique().tolist())  #sorting each variables unique values in a ascending order\n",
    "#year_list = sorted(data['year'].unique().tolist())\n",
    "transmission_list = sorted(data['transmission'].unique().tolist())\n",
    "fuel_list = sorted(data['fuelType'].unique().tolist())\n",
    "\n",
    "my_model_map = {}  #creating dictionaries with mapped values for example 'A1': 1\n",
    "dummy_model = 1\n",
    "\n",
    "for model in model_list:    \n",
    "    my_model_map[model] = dummy_model\n",
    "    dummy_model += 1\n",
    "\n",
    "#my_year_map = {}\n",
    "#dummy_year = 1\n",
    "\n",
    "#for year in year_list:\n",
    "#    my_year_map[year] = dummy_year\n",
    "#    dummy_year += 1\n",
    "    \n",
    "my_transmission_map = {}\n",
    "dummy_transmission = 1\n",
    "\n",
    "for ttype in transmission_list:\n",
    "    my_transmission_map[ttype] = dummy_transmission\n",
    "    dummy_transmission += 1\n",
    "    \n",
    "my_fuel_map = {}\n",
    "dummy_fuel = 1\n",
    "    \n",
    "for ftype in fuel_list:\n",
    "    my_fuel_map[ftype] = dummy_fuel\n",
    "    dummy_fuel += 1"
   ]
  },
  {
   "cell_type": "raw",
   "metadata": {},
   "source": [
    "map_list = [my_model_map, my_transmission_map, my_fuel_map]\n",
    "\n",
    "for i in range(0,len(map_list)):   #mapping the values on the dataset and creating new, dummy columns\n",
    "    data[categorical_variables[i] + '_dummy'] = data[categorical_variables[i]].map(map_list[i])"
   ]
  },
  {
   "cell_type": "raw",
   "metadata": {},
   "source": [
    "data.head()"
   ]
  },
  {
   "cell_type": "markdown",
   "metadata": {},
   "source": [
    "# Below a proper analysis starts"
   ]
  },
  {
   "cell_type": "markdown",
   "metadata": {},
   "source": [
    "### Building a model"
   ]
  },
  {
   "cell_type": "code",
   "execution_count": 20,
   "metadata": {},
   "outputs": [],
   "source": [
    "#importing the neccessary tools from sklearn\n",
    "from sklearn.model_selection import train_test_split\n",
    "from sklearn.linear_model import LinearRegression\n",
    "from sklearn.metrics import mean_squared_error, r2_score, mean_absolute_error\n",
    "\n",
    "train_data, test_data = train_test_split(data, test_size=.8, random_state=1) #splitting the data into train and test set"
   ]
  },
  {
   "cell_type": "code",
   "execution_count": 21,
   "metadata": {},
   "outputs": [],
   "source": [
    "features = ['model_dummy', 'transmission_dummy', 'fuelType_dummy'] #defining features\n",
    "target = 'price' #defining target"
   ]
  },
  {
   "cell_type": "code",
   "execution_count": 22,
   "metadata": {},
   "outputs": [],
   "source": [
    "train_X = train_data[features] #creating a feature and target variables for both training and testing\n",
    "train_y = train_data[target]\n",
    "\n",
    "test_X = test_data[features]\n",
    "test_y = test_data[target]"
   ]
  },
  {
   "cell_type": "code",
   "execution_count": 23,
   "metadata": {},
   "outputs": [],
   "source": [
    "linreg = LinearRegression() #building the models engine\n",
    "\n",
    "linreg.fit(train_X, train_y) #fitting training data\n",
    "pred_y = linreg.predict(test_X) #predicting prices with test data "
   ]
  },
  {
   "cell_type": "markdown",
   "metadata": {},
   "source": [
    "### Assessing model's initial performance"
   ]
  },
  {
   "cell_type": "code",
   "execution_count": 24,
   "metadata": {},
   "outputs": [],
   "source": [
    "mse = mean_squared_error(pred_y, test_y) #calculating performance metrics \n",
    "rmse = np.sqrt(mse)\n",
    "\n",
    "r_squared = r2_score(pred_y, test_y)\n",
    "\n",
    "mae = mean_absolute_error(pred_y, test_y)"
   ]
  },
  {
   "cell_type": "code",
   "execution_count": 25,
   "metadata": {},
   "outputs": [
    {
     "data": {
      "text/plain": [
       "10842.696980919753"
      ]
     },
     "execution_count": 25,
     "metadata": {},
     "output_type": "execute_result"
    }
   ],
   "source": [
    "rmse"
   ]
  },
  {
   "cell_type": "code",
   "execution_count": 26,
   "metadata": {},
   "outputs": [
    {
     "data": {
      "text/plain": [
       "-4.087469540062167"
      ]
     },
     "execution_count": 26,
     "metadata": {},
     "output_type": "execute_result"
    }
   ],
   "source": [
    "r_squared"
   ]
  },
  {
   "cell_type": "code",
   "execution_count": 27,
   "metadata": {},
   "outputs": [
    {
     "data": {
      "text/plain": [
       "7729.437709676802"
      ]
     },
     "execution_count": 27,
     "metadata": {},
     "output_type": "execute_result"
    }
   ],
   "source": [
    "mae"
   ]
  },
  {
   "cell_type": "markdown",
   "metadata": {},
   "source": [
    "The models performance seems to be very low. as r_squared is negative. This can be due to several reasons that are further investigated below."
   ]
  },
  {
   "cell_type": "markdown",
   "metadata": {},
   "source": [
    "## Optimizing the model"
   ]
  },
  {
   "cell_type": "markdown",
   "metadata": {},
   "source": [
    "### creting dummy variables - version 2"
   ]
  },
  {
   "cell_type": "code",
   "execution_count": 28,
   "metadata": {},
   "outputs": [],
   "source": [
    "dummies = pd.get_dummies(data[categorical_variables]) #creating dummy variables out of categorical columns"
   ]
  },
  {
   "cell_type": "code",
   "execution_count": 29,
   "metadata": {},
   "outputs": [],
   "source": [
    "data2 = pd.concat([data, dummies], axis=1) #concatenating the dummies with original data"
   ]
  },
  {
   "cell_type": "code",
   "execution_count": 30,
   "metadata": {},
   "outputs": [
    {
     "data": {
      "text/plain": [
       "Index(['model', 'year', 'price', 'transmission', 'mileage', 'fuelType', 'tax',\n",
       "       'mpg', 'engineSize', 'model_dummy', 'transmission_dummy',\n",
       "       'fuelType_dummy', 'model_ A1', 'model_ A2', 'model_ A3', 'model_ A4',\n",
       "       'model_ A5', 'model_ A6', 'model_ A7', 'model_ A8', 'model_ Q2',\n",
       "       'model_ Q3', 'model_ Q5', 'model_ Q7', 'model_ Q8', 'model_ R8',\n",
       "       'model_ RS3', 'model_ RS4', 'model_ RS5', 'model_ RS6', 'model_ RS7',\n",
       "       'model_ S3', 'model_ S4', 'model_ S5', 'model_ S8', 'model_ SQ5',\n",
       "       'model_ SQ7', 'model_ TT', 'transmission_Automatic',\n",
       "       'transmission_Manual', 'transmission_Semi-Auto', 'fuelType_Diesel',\n",
       "       'fuelType_Hybrid', 'fuelType_Petrol'],\n",
       "      dtype='object')"
      ]
     },
     "execution_count": 30,
     "metadata": {},
     "output_type": "execute_result"
    }
   ],
   "source": [
    "data2.columns"
   ]
  },
  {
   "cell_type": "code",
   "execution_count": 31,
   "metadata": {},
   "outputs": [],
   "source": [
    "train_data2, test_data2 = train_test_split(data2, test_size=.8, random_state=1) #splitting the data into train and test datasets"
   ]
  },
  {
   "cell_type": "code",
   "execution_count": 34,
   "metadata": {},
   "outputs": [],
   "source": [
    "train_X2 = train_data2.drop(['model', 'transmission', 'fuelType', 'price'], axis=1) #choosing the features\n",
    "train_y2 = train_data2['price'] #choosing the target\n",
    "\n",
    "test_X2 = test_data2.drop(['model', 'transmission', 'fuelType', 'price'], axis=1)\n",
    "test_y2 = test_data2['price']"
   ]
  },
  {
   "cell_type": "code",
   "execution_count": 36,
   "metadata": {},
   "outputs": [],
   "source": [
    "linreg2 = LinearRegression() #building the regression engine\n",
    "\n",
    "linreg2.fit(train_X2, train_y2) #fitting data\n",
    "pred_y2 = linreg2.predict(test_X2) # predicting price"
   ]
  },
  {
   "cell_type": "code",
   "execution_count": 37,
   "metadata": {},
   "outputs": [],
   "source": [
    "mse2 = mean_squared_error(pred_y2, test_y2) #calculating performance metrics \n",
    "rmse2 = np.sqrt(mse2)\n",
    "\n",
    "r_squared2 = r2_score(pred_y2, test_y2)\n",
    "\n",
    "mae2 = mean_absolute_error(pred_y2, test_y2)"
   ]
  },
  {
   "cell_type": "code",
   "execution_count": 38,
   "metadata": {},
   "outputs": [
    {
     "data": {
      "text/plain": [
       "3930.769570189979"
      ]
     },
     "execution_count": 38,
     "metadata": {},
     "output_type": "execute_result"
    }
   ],
   "source": [
    "rmse2"
   ]
  },
  {
   "cell_type": "code",
   "execution_count": 39,
   "metadata": {},
   "outputs": [
    {
     "data": {
      "text/plain": [
       "0.8774707778893072"
      ]
     },
     "execution_count": 39,
     "metadata": {},
     "output_type": "execute_result"
    }
   ],
   "source": [
    "r_squared2"
   ]
  },
  {
   "cell_type": "code",
   "execution_count": 40,
   "metadata": {},
   "outputs": [
    {
     "data": {
      "text/plain": [
       "2622.4286810158524"
      ]
     },
     "execution_count": 40,
     "metadata": {},
     "output_type": "execute_result"
    }
   ],
   "source": [
    "mae2"
   ]
  },
  {
   "cell_type": "code",
   "execution_count": 213,
   "metadata": {},
   "outputs": [],
   "source": [
    "def performance_measure(data, feature_list, target, test_size=0.8):\n",
    "    \n",
    "    #this function computes the preformance metrics of a linear regression model using given parameters\n",
    "    #data -> dataset used\n",
    "    #feature_list -> names of the columns to be used as features\n",
    "    #target -> value that the model is gonna be predicting and measuring against\n",
    "    #test_size -> the size of the test dataset as a fraction of the whole\n",
    "    \n",
    "    train_X, test_X, train_y, test_y = train_test_split(data[feature_list], data[target], test_size=0.8, random_state=0) #splitting the data into training and testing sets\n",
    "    \n",
    "    lr = LinearRegression() \n",
    "    lr.fit(train_X, train_y) #building the model and fitting the data\n",
    "    \n",
    "    pred_y = lr.predict(test_X) #predicting price\n",
    "    \n",
    "    r_squared = r2_score(pred_y, test_y) #calculating r squared\n",
    "    rmse = np.sqrt(mean_squared_error(pred_y, test_y)) #calculating root mean squared error\n",
    "    mae = mean_absolute_error(pred_y, test_y) #calculating mean absolute error\n",
    "    \n",
    "    return {'rmse with ' + str(len(feature_list)) + ' features': rmse} # returning the r squared value\n",
    "    "
   ]
  },
  {
   "cell_type": "code",
   "execution_count": 214,
   "metadata": {},
   "outputs": [
    {
     "data": {
      "text/plain": [
       "{'rmse with 40 features': 4019.1095931698833}"
      ]
     },
     "execution_count": 214,
     "metadata": {},
     "output_type": "execute_result"
    }
   ],
   "source": [
    "performance_measure(feature_list=train_X2.columns, data=data2, target='price') #testing the function"
   ]
  },
  {
   "cell_type": "code",
   "execution_count": 215,
   "metadata": {},
   "outputs": [
    {
     "data": {
      "text/plain": [
       "Index(['year', 'mileage', 'tax', 'mpg', 'engineSize', 'model_dummy',\n",
       "       'transmission_dummy', 'fuelType_dummy', 'model_ A1', 'model_ A2',\n",
       "       'model_ A3', 'model_ A4', 'model_ A5', 'model_ A6', 'model_ A7',\n",
       "       'model_ A8', 'model_ Q2', 'model_ Q3', 'model_ Q5', 'model_ Q7',\n",
       "       'model_ Q8', 'model_ R8', 'model_ RS3', 'model_ RS4', 'model_ RS5',\n",
       "       'model_ RS6', 'model_ RS7', 'model_ S3', 'model_ S4', 'model_ S5',\n",
       "       'model_ S8', 'model_ SQ5', 'model_ SQ7', 'model_ TT',\n",
       "       'transmission_Automatic', 'transmission_Manual',\n",
       "       'transmission_Semi-Auto', 'fuelType_Diesel', 'fuelType_Hybrid',\n",
       "       'fuelType_Petrol'],\n",
       "      dtype='object')"
      ]
     },
     "execution_count": 215,
     "metadata": {},
     "output_type": "execute_result"
    }
   ],
   "source": [
    "train_X2.columns"
   ]
  },
  {
   "cell_type": "code",
   "execution_count": 216,
   "metadata": {},
   "outputs": [
    {
     "data": {
      "text/plain": [
       "Index(['model', 'year', 'price', 'transmission', 'mileage', 'fuelType', 'tax',\n",
       "       'mpg', 'engineSize', 'model_dummy', 'transmission_dummy',\n",
       "       'fuelType_dummy', 'model_ A1', 'model_ A2', 'model_ A3', 'model_ A4',\n",
       "       'model_ A5', 'model_ A6', 'model_ A7', 'model_ A8', 'model_ Q2',\n",
       "       'model_ Q3', 'model_ Q5', 'model_ Q7', 'model_ Q8', 'model_ R8',\n",
       "       'model_ RS3', 'model_ RS4', 'model_ RS5', 'model_ RS6', 'model_ RS7',\n",
       "       'model_ S3', 'model_ S4', 'model_ S5', 'model_ S8', 'model_ SQ5',\n",
       "       'model_ SQ7', 'model_ TT', 'transmission_Automatic',\n",
       "       'transmission_Manual', 'transmission_Semi-Auto', 'fuelType_Diesel',\n",
       "       'fuelType_Hybrid', 'fuelType_Petrol'],\n",
       "      dtype='object')"
      ]
     },
     "execution_count": 216,
     "metadata": {},
     "output_type": "execute_result"
    }
   ],
   "source": [
    "data2.columns"
   ]
  },
  {
   "cell_type": "code",
   "execution_count": 217,
   "metadata": {},
   "outputs": [],
   "source": [
    "#creating a list of all possible features combinations\n",
    "import itertools\n",
    "\n",
    "my_features = ['model', 'year', 'transmission', 'mileage', 'fuelType', 'mpg', 'engineSize']\n",
    "combinations = []\n",
    "for L in range(1, len(my_features)+1): \n",
    "    for subset in itertools.combinations(my_features, L):\n",
    "        combinations.append(list(subset))\n",
    "        \n"
   ]
  },
  {
   "cell_type": "code",
   "execution_count": 218,
   "metadata": {},
   "outputs": [],
   "source": [
    "from collections.abc import Iterable\n",
    "\n",
    "\n",
    "def flatten(lis):\n",
    "    \n",
    "    #created by: Ashwini Chaudhary, Steve Mayne\n",
    "    #function loops through items of a list and checks wheter the item is iterable if yes checks further and\n",
    "    # finally returns a non-iterable item\n",
    "    #in essence this function make nested list a one-dimensional one.\n",
    "    \n",
    "    for item in lis:\n",
    "        if isinstance(item, Iterable) and not isinstance(item, str):\n",
    "            for x in flatten(item):\n",
    "                yield x\n",
    "        else:\n",
    "            yield item"
   ]
  },
  {
   "cell_type": "code",
   "execution_count": 219,
   "metadata": {},
   "outputs": [],
   "source": [
    "def creating_features(combinations):\n",
    "    \n",
    "    #this functions is creating a final list of features to be used in testing performance by iterating through\n",
    "    #previously created list of combinations and making a similar list but taking into account dummy variables.\n",
    "    \n",
    "    \n",
    "    list_of_final_features = []\n",
    "    \n",
    "    for combination in combinations:\n",
    "        final_features = []\n",
    "        for feature in combination:\n",
    "            if \"model\" is feature:\n",
    "                model_features = [s for s in dummies.columns if 'model' in s]\n",
    "                final_features.append(model_features)\n",
    "            \n",
    "            if \"transmission\" is feature:\n",
    "                transmission_features = [s for s in dummies.columns if 'transmission' in s]\n",
    "                final_features.append(transmission_features)\n",
    "        \n",
    "            if 'fuelType' is feature:\n",
    "                fuel_features = [s for s in dummies.columns if 'fuelType' in s]\n",
    "                final_features.append(fuel_features)\n",
    "        \n",
    "            elif feature not in ['model', 'transmission', 'fuelType']:\n",
    "                final_features.append(feature)\n",
    "            \n",
    "        list_of_final_features.append(list(flatten(final_features)))\n",
    "\n",
    "    return list_of_final_features\n",
    "    \n",
    "\n",
    "    \n",
    "    \n",
    "def regression_feature_testing(list_of_combinations, data):\n",
    "    \n",
    "    ##this functions is building a linear regression for each combination of features from given list\n",
    "    #and computing that models' performance metric and putting them into a dictionary\n",
    "    #list_of_combinations -> a list of all combinations of features\n",
    "    \n",
    "    score_dict = {}\n",
    "    combination_index = 0\n",
    "    for combination in list_of_combinations:\n",
    "    \n",
    "        \n",
    "        r_score = performance_measure(data=data, feature_list=combination, target='price') \n",
    "        score_dict[combination_index] = r_score\n",
    "    \n",
    "        combination_index += 1\n",
    "    return score_dict\n",
    "    \n"
   ]
  },
  {
   "cell_type": "code",
   "execution_count": 220,
   "metadata": {},
   "outputs": [
    {
     "data": {
      "text/plain": [
       "{0: {'rmse with 26 features': 651888189159365.6},\n",
       " 1: {'rmse with 1 features': 9480.083002536652},\n",
       " 2: {'rmse with 3 features': 10284.366335381488},\n",
       " 3: {'rmse with 1 features': 9924.018190597832},\n",
       " 4: {'rmse with 3 features': 11731.117678757339},\n",
       " 5: {'rmse with 1 features': 9405.377441491939},\n",
       " 6: {'rmse with 1 features': 9466.27344387099},\n",
       " 7: {'rmse with 27 features': 5132.101746141088},\n",
       " 8: {'rmse with 29 features': 646837952369391.2},\n",
       " 9: {'rmse with 27 features': 5713.350587928915},\n",
       " 10: {'rmse with 29 features': 451472786787215.44},\n",
       " 11: {'rmse with 27 features': 7172.657012629841},\n",
       " 12: {'rmse with 27 features': 755974474129113.6},\n",
       " 13: {'rmse with 4 features': 8606.030856914003},\n",
       " 14: {'rmse with 2 features': 9392.88942524442},\n",
       " 15: {'rmse with 4 features': 9397.668401810764},\n",
       " 16: {'rmse with 2 features': 8115.165900926797},\n",
       " 17: {'rmse with 2 features': 6174.260917187128},\n",
       " 18: {'rmse with 4 features': 8872.097686767213},\n",
       " 19: {'rmse with 6 features': 10286.53056978363},\n",
       " 20: {'rmse with 4 features': 8840.762969677908},\n",
       " 21: {'rmse with 4 features': 8954.258875291749},\n",
       " 22: {'rmse with 4 features': 9724.867448043622},\n",
       " 23: {'rmse with 2 features': 8600.440442797339},\n",
       " 24: {'rmse with 2 features': 6595.535046909034},\n",
       " 25: {'rmse with 4 features': 8129.658236781288},\n",
       " 26: {'rmse with 4 features': 9164.389017142814},\n",
       " 27: {'rmse with 2 features': 8141.581814755824},\n",
       " 28: {'rmse with 30 features': 82275161593673.16},\n",
       " 29: {'rmse with 28 features': 4955.476043607928},\n",
       " 30: {'rmse with 30 features': 49207157368344.266},\n",
       " 31: {'rmse with 28 features': 4815.689559223203},\n",
       " 32: {'rmse with 28 features': 4752.6687108530405},\n",
       " 33: {'rmse with 30 features': 8082832699.476388},\n",
       " 34: {'rmse with 32 features': 136861244403762.17},\n",
       " 35: {'rmse with 30 features': 1159752665667.8618},\n",
       " 36: {'rmse with 30 features': 294337510062694.56},\n",
       " 37: {'rmse with 30 features': 30572979857.04263},\n",
       " 38: {'rmse with 28 features': 5461.999079676927},\n",
       " 39: {'rmse with 28 features': 5415.479080451482},\n",
       " 40: {'rmse with 30 features': 9455657389357.168},\n",
       " 41: {'rmse with 30 features': 472098175258701.56},\n",
       " 42: {'rmse with 28 features': 7147.723729374733},\n",
       " 43: {'rmse with 5 features': 8512.520312852828},\n",
       " 44: {'rmse with 7 features': 8574.530129904515},\n",
       " 45: {'rmse with 5 features': 7710.382723642115},\n",
       " 46: {'rmse with 5 features': 6107.62618575376},\n",
       " 47: {'rmse with 5 features': 9254.375403652746},\n",
       " 48: {'rmse with 3 features': 8110.341003590527},\n",
       " 49: {'rmse with 3 features': 5901.073164390589},\n",
       " 50: {'rmse with 5 features': 6974.112263447491},\n",
       " 51: {'rmse with 5 features': 5974.971363310815},\n",
       " 52: {'rmse with 3 features': 5773.223276282341},\n",
       " 53: {'rmse with 7 features': 8765.013832026121},\n",
       " 54: {'rmse with 5 features': 8076.708282706234},\n",
       " 55: {'rmse with 5 features': 6460.921367847294},\n",
       " 56: {'rmse with 7 features': 7957.384940809311},\n",
       " 57: {'rmse with 7 features': 8713.312461967098},\n",
       " 58: {'rmse with 5 features': 7938.376192110687},\n",
       " 59: {'rmse with 5 features': 7284.623292853294},\n",
       " 60: {'rmse with 5 features': 6521.705956174656},\n",
       " 61: {'rmse with 3 features': 6297.0583662089275},\n",
       " 62: {'rmse with 5 features': 7577.059462820217},\n",
       " 63: {'rmse with 31 features': 2822649194.3005614},\n",
       " 64: {'rmse with 33 features': 514419941714734.6},\n",
       " 65: {'rmse with 31 features': 1009784843012.2395},\n",
       " 66: {'rmse with 31 features': 67771881039308.74},\n",
       " 67: {'rmse with 31 features': 4898559088.0985565},\n",
       " 68: {'rmse with 29 features': 732029902.9821255},\n",
       " 69: {'rmse with 29 features': 67467642.92004573},\n",
       " 70: {'rmse with 31 features': 289154097833.7042},\n",
       " 71: {'rmse with 31 features': 31255694444474.43},\n",
       " 72: {'rmse with 29 features': 3613933690950.4736},\n",
       " 73: {'rmse with 33 features': 2442788922.2817135},\n",
       " 74: {'rmse with 31 features': 3574619616.5491467},\n",
       " 75: {'rmse with 31 features': 1615101952.3129117},\n",
       " 76: {'rmse with 33 features': 7033003192358.274},\n",
       " 77: {'rmse with 33 features': 427244867765763.3},\n",
       " 78: {'rmse with 31 features': 1013767006435.1444},\n",
       " 79: {'rmse with 31 features': 1597428692.9256487},\n",
       " 80: {'rmse with 31 features': 16695585937.285374},\n",
       " 81: {'rmse with 29 features': 7780207183.440619},\n",
       " 82: {'rmse with 31 features': 23027629946289.746},\n",
       " 83: {'rmse with 8 features': 8439.51597829448},\n",
       " 84: {'rmse with 6 features': 7698.873532162685},\n",
       " 85: {'rmse with 6 features': 5840.25720651152},\n",
       " 86: {'rmse with 8 features': 6871.946857885259},\n",
       " 87: {'rmse with 8 features': 5918.483127939603},\n",
       " 88: {'rmse with 6 features': 5749.718720365087},\n",
       " 89: {'rmse with 6 features': 6942.022604629501},\n",
       " 90: {'rmse with 6 features': 5773.048099925701},\n",
       " 91: {'rmse with 4 features': 5625.189388707224},\n",
       " 92: {'rmse with 6 features': 5520.384171864187},\n",
       " 93: {'rmse with 8 features': 7131.2978959821},\n",
       " 94: {'rmse with 8 features': 6396.91110553976},\n",
       " 95: {'rmse with 6 features': 6219.808898756698},\n",
       " 96: {'rmse with 8 features': 7494.122997429444},\n",
       " 97: {'rmse with 6 features': 6021.905445147876},\n",
       " 98: {'rmse with 34 features': 2664034804.572096},\n",
       " 99: {'rmse with 32 features': 8479751464.711736},\n",
       " 100: {'rmse with 32 features': 2943710773.7561426},\n",
       " 101: {'rmse with 34 features': 1216538456661.3364},\n",
       " 102: {'rmse with 34 features': 47766959352493.38},\n",
       " 103: {'rmse with 32 features': 670064059267.9883},\n",
       " 104: {'rmse with 32 features': 4409513133.835697},\n",
       " 105: {'rmse with 32 features': 2313319592.1995044},\n",
       " 106: {'rmse with 30 features': 877256406.3807348},\n",
       " 107: {'rmse with 32 features': 4058254312868.6196},\n",
       " 108: {'rmse with 34 features': 10004006387.498753},\n",
       " 109: {'rmse with 34 features': 15050203355.884491},\n",
       " 110: {'rmse with 32 features': 333554433.9923927},\n",
       " 111: {'rmse with 34 features': 5339763469050.033},\n",
       " 112: {'rmse with 32 features': 24189974394.41156},\n",
       " 113: {'rmse with 9 features': 6831.881489769377},\n",
       " 114: {'rmse with 9 features': 5720.533896988275},\n",
       " 115: {'rmse with 7 features': 5599.720768572931},\n",
       " 116: {'rmse with 9 features': 5517.094273778508},\n",
       " 117: {'rmse with 7 features': 5401.808929094764},\n",
       " 118: {'rmse with 9 features': 5988.121518702348},\n",
       " 119: {'rmse with 35 features': 10365144329.12682},\n",
       " 120: {'rmse with 35 features': 4245245905.9472566},\n",
       " 121: {'rmse with 33 features': 5558399205.902403},\n",
       " 122: {'rmse with 35 features': 432631906984.22253},\n",
       " 123: {'rmse with 33 features': 4821375016.356635},\n",
       " 124: {'rmse with 35 features': 6310953382.626503},\n",
       " 125: {'rmse with 10 features': 5395.609319862425},\n",
       " 126: {'rmse with 36 features': 7352878106.776694}}"
      ]
     },
     "execution_count": 220,
     "metadata": {},
     "output_type": "execute_result"
    }
   ],
   "source": [
    "regression_feature_testing(creating_features(combinations), data2)"
   ]
  },
  {
   "cell_type": "code",
   "execution_count": 1,
   "metadata": {},
   "outputs": [
    {
     "ename": "NameError",
     "evalue": "name 'creating_features' is not defined",
     "output_type": "error",
     "traceback": [
      "\u001b[0;31m---------------------------------------------------------------------------\u001b[0m",
      "\u001b[0;31mNameError\u001b[0m                                 Traceback (most recent call last)",
      "\u001b[0;32m<ipython-input-1-0bbcaa044950>\u001b[0m in \u001b[0;36m<module>\u001b[0;34m\u001b[0m\n\u001b[0;32m----> 1\u001b[0;31m \u001b[0mcreating_features\u001b[0m\u001b[0;34m(\u001b[0m\u001b[0mcombinations\u001b[0m\u001b[0;34m)\u001b[0m\u001b[0;34m[\u001b[0m\u001b[0;36m32\u001b[0m\u001b[0;34m]\u001b[0m \u001b[0;31m#this is the best combination of features\u001b[0m\u001b[0;34m\u001b[0m\u001b[0;34m\u001b[0m\u001b[0m\n\u001b[0m",
      "\u001b[0;31mNameError\u001b[0m: name 'creating_features' is not defined"
     ]
    }
   ],
   "source": [
    "creating_features(combinations)[32] #this is the best combination of features"
   ]
  },
  {
   "cell_type": "code",
   "execution_count": null,
   "metadata": {},
   "outputs": [],
   "source": []
  }
 ],
 "metadata": {
  "kernelspec": {
   "display_name": "Python 3",
   "language": "python",
   "name": "python3"
  },
  "language_info": {
   "codemirror_mode": {
    "name": "ipython",
    "version": 3
   },
   "file_extension": ".py",
   "mimetype": "text/x-python",
   "name": "python",
   "nbconvert_exporter": "python",
   "pygments_lexer": "ipython3",
   "version": "3.7.2"
  }
 },
 "nbformat": 4,
 "nbformat_minor": 2
}
